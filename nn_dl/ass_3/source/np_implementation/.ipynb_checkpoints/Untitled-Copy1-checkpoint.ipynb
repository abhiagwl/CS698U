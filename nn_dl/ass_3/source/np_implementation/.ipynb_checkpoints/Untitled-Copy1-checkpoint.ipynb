{
 "cells": [
  {
   "cell_type": "code",
   "execution_count": 1,
   "metadata": {
    "collapsed": true
   },
   "outputs": [],
   "source": [
    "import os\n",
    "import numpy as np\n",
    "\n",
    "root_dir= os.path.abspath(\"../..\")\n",
    "data_dir = os.path.join(root_dir, 'data')\n",
    "source_dir = os.path.join(root_dir, 'source')\n",
    "data_dir=os.path.join(data_dir,'mnist_png/training')\n"
   ]
  },
  {
   "cell_type": "code",
   "execution_count": 2,
   "metadata": {
    "collapsed": true
   },
   "outputs": [],
   "source": [
    "import load_data \n",
    "training_data,validation_data, test_data=load_data.load_()\n",
    "\n",
    "import source_code\n",
    "act_func=source_code.ReLU\n",
    "mini_batch_size=50\n",
    "layers=[source_code.conv((mini_batch_size,1,32,32),(6,1,5,5),activation_func=act_func,flag=1),\n",
    "        source_code.conv((mini_batch_size,6,14,14),(16,6,5,5),activation_func=act_func,flag=2),\n",
    "        source_code.FullyConnectedLayer(400,120,activation_func=act_func,flag=1),\n",
    "        source_code.FullyConnectedLayer(120,84,activation_func=act_func,flag=2),\n",
    "        source_code.SoftmaxLayer(84,10,activation_func=act_func)\n",
    "]\n"
   ]
  },
  {
   "cell_type": "code",
   "execution_count": 4,
   "metadata": {
    "collapsed": true
   },
   "outputs": [],
   "source": [
    "name=str(mini_batch_size)+\"complete\""
   ]
  },
  {
   "cell_type": "code",
   "execution_count": 3,
   "metadata": {
    "collapsed": true
   },
   "outputs": [],
   "source": [
    "import random\n",
    "random.shuffle(validation_data)"
   ]
  },
  {
   "cell_type": "code",
   "execution_count": 7,
   "metadata": {
    "collapsed": false,
    "scrolled": true
   },
   "outputs": [
    {
     "name": "stdout",
     "output_type": "stream",
     "text": [
      "time for 0 epoch 3142.38329506\n",
      "time for 1 epoch 4151.56305695\n",
      "time for 2 epoch 3419.01106\n"
     ]
    }
   ],
   "source": [
    "net=source_code.Network(layers,mini_batch_size)\n",
    "net.SGD(training_data,validation_data[:200],3,0.1,name)"
   ]
  },
  {
   "cell_type": "code",
   "execution_count": 11,
   "metadata": {
    "collapsed": false
   },
   "outputs": [
    {
     "data": {
      "text/plain": [
       "0.941"
      ]
     },
     "execution_count": 11,
     "metadata": {},
     "output_type": "execute_result"
    }
   ],
   "source": [
    "net.accuracy(test_data[:4000])"
   ]
  },
  {
   "cell_type": "code",
   "execution_count": 10,
   "metadata": {
    "collapsed": false
   },
   "outputs": [
    {
     "data": {
      "text/plain": [
       "0.9645"
      ]
     },
     "execution_count": 10,
     "metadata": {},
     "output_type": "execute_result"
    }
   ],
   "source": [
    "net.accuracy(validation_data[:2000])"
   ]
  },
  {
   "cell_type": "code",
   "execution_count": null,
   "metadata": {
    "collapsed": true
   },
   "outputs": [],
   "source": []
  },
  {
   "cell_type": "code",
   "execution_count": 5,
   "metadata": {
    "collapsed": false
   },
   "outputs": [
    {
     "name": "stdout",
     "output_type": "stream",
     "text": [
      "Once deleted, variables cannot be recovered. Proceed (y/[n])? y\n"
     ]
    }
   ],
   "source": [
    "%reset"
   ]
  }
 ],
 "metadata": {
  "kernelspec": {
   "display_name": "Python 2",
   "language": "python",
   "name": "python2"
  },
  "language_info": {
   "codemirror_mode": {
    "name": "ipython",
    "version": 2
   },
   "file_extension": ".py",
   "mimetype": "text/x-python",
   "name": "python",
   "nbconvert_exporter": "python",
   "pygments_lexer": "ipython2",
   "version": "2.7.13"
  }
 },
 "nbformat": 4,
 "nbformat_minor": 2
}
