{
 "cells": [
  {
   "cell_type": "code",
   "execution_count": 1,
   "metadata": {
    "collapsed": true
   },
   "outputs": [],
   "source": [
    "import os\n",
    "import numpy as np\n",
    "\n",
    "root_dir= os.path.abspath(\"../..\")\n",
    "data_dir = os.path.join(root_dir, 'data')\n",
    "source_dir = os.path.join(root_dir, 'source')\n",
    "data_dir=os.path.join(data_dir,'mnist_png/training')\n"
   ]
  },
  {
   "cell_type": "code",
   "execution_count": 2,
   "metadata": {
    "collapsed": true
   },
   "outputs": [],
   "source": [
    "import load_data \n",
    "training_data,validation_data, test_data=load_data.load_()\n",
    "import random\n",
    "random.shuffle(validation_data)\n",
    "import source_code\n",
    "act_func=source_code.ReLU\n",
    "mini_batch_size=128\n",
    "layers=[source_code.conv((mini_batch_size,1,32,32),(6,1,5,5),activation_func=act_func,flag=1),\n",
    "        source_code.conv((mini_batch_size,6,14,14),(16,6,5,5),activation_func=act_func,flag=2),\n",
    "        source_code.FullyConnectedLayer(400,120,activation_func=act_func,flag=1),\n",
    "        source_code.FullyConnectedLayer(120,84,activation_func=act_func,flag=2),\n",
    "        source_code.SoftmaxLayer(84,10,activation_func=act_func)\n",
    "]\n",
    "name=str(mini_batch_size)+\"done_again\"\n"
   ]
  },
  {
   "cell_type": "code",
   "execution_count": 4,
   "metadata": {
    "collapsed": false,
    "scrolled": true
   },
   "outputs": [
    {
     "name": "stdout",
     "output_type": "stream",
     "text": [
      "time for 0 epoch 1053.90425491\n",
      "time for 1 epoch 1009.08536696\n",
      "time for 2 epoch 1004.75643086\n"
     ]
    }
   ],
   "source": [
    "net=source_code.Network(layers,mini_batch_size)\n",
    "net.SGD(training_data[:12800],validation_data[:300],3,0.1,name)"
   ]
  },
  {
   "cell_type": "code",
   "execution_count": 5,
   "metadata": {
    "collapsed": false
   },
   "outputs": [
    {
     "data": {
      "text/plain": [
       "0.9337"
      ]
     },
     "execution_count": 5,
     "metadata": {},
     "output_type": "execute_result"
    }
   ],
   "source": [
    "net.accuracy(test_data)"
   ]
  },
  {
   "cell_type": "code",
   "execution_count": 6,
   "metadata": {
    "collapsed": false
   },
   "outputs": [
    {
     "data": {
      "text/plain": [
       "0.9368"
      ]
     },
     "execution_count": 6,
     "metadata": {},
     "output_type": "execute_result"
    }
   ],
   "source": [
    "net.accuracy(validation_data)"
   ]
  },
  {
   "cell_type": "code",
   "execution_count": 7,
   "metadata": {
    "collapsed": false
   },
   "outputs": [
    {
     "data": {
      "text/plain": [
       "0.9341"
      ]
     },
     "execution_count": 7,
     "metadata": {},
     "output_type": "execute_result"
    }
   ],
   "source": [
    "random.shuffle(training_data)\n",
    "net.accuracy(training_data[:10000])"
   ]
  },
  {
   "cell_type": "code",
   "execution_count": 8,
   "metadata": {
    "collapsed": false
   },
   "outputs": [
    {
     "name": "stdout",
     "output_type": "stream",
     "text": [
      "time for 0 epoch 1078.84635496\n",
      "time for 1 epoch 1052.40928292\n",
      "time for 2 epoch 1084.69945192\n"
     ]
    }
   ],
   "source": [
    "mini_batch_size=64\n",
    "name=str(mini_batch_size)+\"done_again\"\n",
    "net=source_code.Network(layers,mini_batch_size)\n",
    "net.SGD(training_data[:12800],validation_data[:300],3,0.1,name)"
   ]
  },
  {
   "cell_type": "code",
   "execution_count": 9,
   "metadata": {
    "collapsed": false
   },
   "outputs": [
    {
     "data": {
      "text/plain": [
       "0.9492"
      ]
     },
     "execution_count": 9,
     "metadata": {},
     "output_type": "execute_result"
    }
   ],
   "source": [
    "net.accuracy(test_data)"
   ]
  },
  {
   "cell_type": "code",
   "execution_count": 10,
   "metadata": {
    "collapsed": false
   },
   "outputs": [
    {
     "data": {
      "text/plain": [
       "0.9498"
      ]
     },
     "execution_count": 10,
     "metadata": {},
     "output_type": "execute_result"
    }
   ],
   "source": [
    "net.accuracy(validation_data)"
   ]
  },
  {
   "cell_type": "code",
   "execution_count": 11,
   "metadata": {
    "collapsed": false
   },
   "outputs": [
    {
     "data": {
      "text/plain": [
       "0.9475"
      ]
     },
     "execution_count": 11,
     "metadata": {},
     "output_type": "execute_result"
    }
   ],
   "source": [
    "random.shuffle(training_data)\n",
    "net.accuracy(training_data[:10000])"
   ]
  },
  {
   "cell_type": "code",
   "execution_count": null,
   "metadata": {
    "collapsed": true
   },
   "outputs": [],
   "source": []
  },
  {
   "cell_type": "code",
   "execution_count": 13,
   "metadata": {
    "collapsed": false
   },
   "outputs": [
    {
     "name": "stdout",
     "output_type": "stream",
     "text": [
      "Once deleted, variables cannot be recovered. Proceed (y/[n])? y\n"
     ]
    }
   ],
   "source": [
    "%reset"
   ]
  },
  {
   "cell_type": "code",
   "execution_count": null,
   "metadata": {
    "collapsed": true
   },
   "outputs": [],
   "source": []
  }
 ],
 "metadata": {
  "kernelspec": {
   "display_name": "Python 2",
   "language": "python",
   "name": "python2"
  },
  "language_info": {
   "codemirror_mode": {
    "name": "ipython",
    "version": 2
   },
   "file_extension": ".py",
   "mimetype": "text/x-python",
   "name": "python",
   "nbconvert_exporter": "python",
   "pygments_lexer": "ipython2",
   "version": "2.7.13"
  }
 },
 "nbformat": 4,
 "nbformat_minor": 2
}
