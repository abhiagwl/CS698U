{
 "cells": [
  {
   "cell_type": "code",
   "execution_count": 1,
   "metadata": {
    "collapsed": false,
    "scrolled": true
   },
   "outputs": [],
   "source": [
    "import os\n",
    "import numpy as np\n",
    "import load_data\n",
    "import pandas as pd\n",
    "training_data, validation_data, test_data = load_data.load_()\n",
    "import mlp\n",
    "root_dir = os.path.abspath('../..')\n",
    "data_dir= os.path.join(proj_dir, \"data\")"
   ]
  },
  {
   "cell_type": "markdown",
   "metadata": {},
   "source": [
    "Network is the main class to execute the different methods.Code currently implements the neural network architecture with different activation functions and choice of different gradient options. The last layer is softmax and the loss function is cross entropy as these are pretty standard choices.The use of regularization has been omitted as the purpose was to study the different techniques and compare how they fare against each other\n",
    "\n",
    "\n",
    "Whenever an instance of the Network class is called the following parameters are required:\n",
    "\n",
    "n_layers : total number of layers (Example:   4)\n",
    "nnodes   : a list having the number of nodes in the different layers. (Example:   [784,30,30,10]) here the first layer is the input and the last one is output. The remaining layers are the hidden layers\n",
    "\n",
    "\n",
    "actfun   : takes one of the three possible activation functions namely tanh, ReLU and sigmoid gradient : takes one of the few possible gradient approaches, namely rmsprop,momentum,adagrad and vanilla gd\n",
    "\n",
    "weights and biases: initializes the weights and biases of the neurons depending upon the network architecture\n",
    "The divide by sqrt(x) is for an efficient initialization of weights()\n",
    "\n",
    "velocity_biases and velocity_weights : initialize array with shape same as that of the weights and biases \n",
    "to facilitate the \n",
    "momentum and related gradients\n",
    "\n",
    "cache_biases and cache_weights : same as the velocity_biases & wieghts for the adagrad and rmsprop gradients\n",
    "\n",
    "\n",
    "This redundant update rule is done to make the whole process general and easier to run\n",
    "\n"
   ]
  },
  {
   "cell_type": "code",
   "execution_count": 2,
   "metadata": {
    "collapsed": false,
    "scrolled": true
   },
   "outputs": [
    {
     "name": "stdout",
     "output_type": "stream",
     "text": [
      "Epoch 0: 9103 / 10000\n",
      "Epoch 1: 9376 / 10000\n",
      "Epoch 2: 9520 / 10000\n",
      "Epoch 3: 9471 / 10000\n",
      "Epoch 4: 9486 / 10000\n",
      "Epoch 5: 9438 / 10000\n"
     ]
    },
    {
     "name": "stderr",
     "output_type": "stream",
     "text": [
      "mlp.py:248: RuntimeWarning: divide by zero encountered in log\n",
      "  cost+= (np.sum(np.nan_to_num(-y*np.log(a)-(1-y)*np.log(1-a))))/len(data)\n",
      "mlp.py:248: RuntimeWarning: invalid value encountered in multiply\n",
      "  cost+= (np.sum(np.nan_to_num(-y*np.log(a)-(1-y)*np.log(1-a))))/len(data)\n"
     ]
    },
    {
     "name": "stdout",
     "output_type": "stream",
     "text": [
      "Epoch 6: 9450 / 10000\n",
      "Epoch 7: 9494 / 10000\n",
      "Epoch 8: 9552 / 10000\n",
      "Epoch 9: 9540 / 10000\n",
      "Epoch 10: 9540 / 10000\n",
      "Epoch 11: 9512 / 10000\n",
      "Epoch 12: 9587 / 10000\n",
      "Epoch 13: 9587 / 10000\n",
      "Epoch 14: 9512 / 10000\n",
      "Epoch 15: 9569 / 10000\n",
      "Epoch 16: 9549 / 10000\n",
      "Epoch 17: 9516 / 10000\n",
      "Epoch 18: 9564 / 10000\n",
      "Epoch 19: 9551 / 10000\n",
      "Epoch 20: 9552 / 10000\n",
      "Epoch 21: 9558 / 10000\n",
      "Epoch 22: 9574 / 10000\n",
      "Epoch 23: 9520 / 10000\n",
      "Epoch 24: 9556 / 10000\n"
     ]
    }
   ],
   "source": [
    "#just change the mlp.ReLU to mlp.tanh or mlp.sigmoid in case that is needed\n",
    "#just change the mlp.momentum to mlp.adgrad or mlp.rmsprop in case that is needed\n",
    "\n",
    "net = mlp.Network(3,[784,30,10],mlp.ReLU,mlp.momentum)\n",
    "results = net.train(training_data, 25, 10, 0.1,evaluation_data=validation_data)\n",
    "results=pd.DataFrame(results)\n",
    "results.transpose().to_csv(os.path.join(data_dir,\"ReLU_momentum_0dot1_30.csv\"),header=None,index=None)"
   ]
  },
  {
   "cell_type": "code",
   "execution_count": null,
   "metadata": {
    "collapsed": true
   },
   "outputs": [],
   "source": []
  }
 ],
 "metadata": {
  "kernelspec": {
   "display_name": "Python 2",
   "language": "python",
   "name": "python2"
  },
  "language_info": {
   "codemirror_mode": {
    "name": "ipython",
    "version": 2
   },
   "file_extension": ".py",
   "mimetype": "text/x-python",
   "name": "python",
   "nbconvert_exporter": "python",
   "pygments_lexer": "ipython2",
   "version": "2.7.11"
  }
 },
 "nbformat": 4,
 "nbformat_minor": 0
}
