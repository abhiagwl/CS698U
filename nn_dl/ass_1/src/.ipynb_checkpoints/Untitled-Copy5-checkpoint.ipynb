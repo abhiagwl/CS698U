{
 "cells": [
  {
   "cell_type": "code",
   "execution_count": 1,
   "metadata": {
    "collapsed": false,
    "scrolled": true
   },
   "outputs": [],
   "source": [
    "import os\n",
    "import numpy as np\n",
    "import load_data\n",
    "import pandas as pd\n",
    "training_data, validation_data, test_data = load_data.load_()\n",
    "import mlp\n",
    "root_dir = os.path.abspath('../..')\n",
    "proj_dir = os.path.join(root_dir, 'ass_1')\n",
    "data_dir= os.path.join(proj_dir, \"data\")\n",
    "source_dir=os.path.join(proj_dir,'src')"
   ]
  },
  {
   "cell_type": "code",
   "execution_count": 3,
   "metadata": {
    "collapsed": false
   },
   "outputs": [
    {
     "name": "stdout",
     "output_type": "stream",
     "text": [
      "Epoch 0: 9243 / 10000\n"
     ]
    }
   ],
   "source": [
    "net = mlp.Network(3,[784,30,10],mlp.ReLU,mlp.adgrad)\n",
    "results = net.train(training_data, 50, 10, 0.1,evaluation_data=validation_data)\n",
    "results=pd.DataFrame(results)\n",
    "results.transpose().to_csv(os.path.join(data_dir,\"ReLU_adagrad_0dot1_30.csv\"),header=None,index=None)"
   ]
  },
  {
   "cell_type": "code",
   "execution_count": 1,
   "metadata": {
    "collapsed": true
   },
   "outputs": [],
   "source": [
    "import matplotlib.pyplot as plt"
   ]
  },
  {
   "cell_type": "code",
   "execution_count": 9,
   "metadata": {
    "collapsed": false
   },
   "outputs": [
    {
     "name": "stdout",
     "output_type": "stream",
     "text": [
      "[[ 0.46539444]\n",
      " [ 0.02026071]\n",
      " [ 0.13027132]\n",
      " [ 0.01156132]\n",
      " [ 0.04854994]\n",
      " [ 0.0797034 ]\n",
      " [-0.94617528]\n",
      " [ 0.08086991]\n",
      " [ 0.06075093]\n",
      " [ 0.04881331]]\n"
     ]
    }
   ],
   "source": [
    "estimated_values=net.grad_check(training_data)\n",
    "estimate=[values for i, values in np.ndenumerate(estimated_values)]\n",
    "bp_value=[values for i, values in np.ndenumerate(net.weights[0])]\n",
    "    \n",
    "plt.plot([i for i in xrange(len(estimate))],estimate,[i for i in xrange(len(estimate))],bp_value)\n",
    "plt.ylabel('numerical_gradient')\n",
    "plt.show()"
   ]
  },
  {
   "cell_type": "code",
   "execution_count": 6,
   "metadata": {
    "collapsed": true
   },
   "outputs": [],
   "source": [
    "plt.plot(net.biases[0])\n",
    "plt.ylabel('numerical_gradient')\n",
    "plt.show()"
   ]
  },
  {
   "cell_type": "code",
   "execution_count": null,
   "metadata": {
    "collapsed": false
   },
   "outputs": [],
   "source": [
    "net = mlp.Network(3,[784,60,10],mlp.tanh,mlp.rmsprop)\n",
    "results = net.train(training_data, 30, 10, 1,validation_data)\n",
    "results=pd.DataFrame(results)\n",
    "results.transpose().to_csv(os.path.join(data_dir,\"tanh_rms_1dot0_60.csv\"),header=None,index=None)"
   ]
  },
  {
   "cell_type": "code",
   "execution_count": null,
   "metadata": {
    "collapsed": false
   },
   "outputs": [],
   "source": [
    "net = mlp.Network(3,[784,100,10],mlp.tanh,mlp.rmsprop)\n",
    "results = net.train(training_data, 30, 10, 1,validation_data)\n",
    "results=pd.DataFrame(results)\n",
    "results.transpose().to_csv(os.path.join(data_dir,\"tanh_rms_1dot0_100.csv\"),header=None,index=None)"
   ]
  },
  {
   "cell_type": "code",
   "execution_count": null,
   "metadata": {
    "collapsed": false
   },
   "outputs": [],
   "source": [
    "net = mlp.Network(3,[784,100,60,10],mlp.tanh,mlp.rmsprop)\n",
    "results = net.train(training_data, 20, 10, 1,validation_data)\n",
    "results=pd.DataFrame(results)\n",
    "results.transpose().to_csv(os.path.join(data_dir,\"tanh_rms_1dot0_100_60.csv\"),header=None,index=None)"
   ]
  },
  {
   "cell_type": "code",
   "execution_count": null,
   "metadata": {
    "collapsed": false
   },
   "outputs": [],
   "source": [
    "net = mlp.Network(3,[784,100,100,10],mlp.tanh,mlp.rmsprop)\n",
    "results = net.train(training_data, 10, 10, 1,validation_data)\n",
    "results=pd.DataFrame(results)\n",
    "results.transpose().to_csv(os.path.join(data_dir,\"tanh_rms_1dot_100_100.csv\"),header=None,index=None)"
   ]
  },
  {
   "cell_type": "code",
   "execution_count": 3,
   "metadata": {
    "collapsed": true
   },
   "outputs": [],
   "source": [
    "results=net.train(training_data[:1000], 3, 10, .1,test_data)\n",
    "\n",
    "import pandas as pd\n",
    "\n",
    "pd.DataFrame(results)\n",
    "\n",
    "net.biases[0].shape\n",
    "\n",
    "net = mlp.Network(3,[784,30,10],mlp.tanh,mlp.vanilla,soft=True)\n",
    "net.train(training_data[:10000], 10, 10, .1,test_data)\n",
    "\n",
    "net.grad_check(training_data )\n",
    "\n",
    "net = mlp.Network(3,[784,30,10],mlp.tanh)\n",
    "net.train(training_data, 10, 10,0.3,test_data)\n",
    "\n",
    "import numpy as np\n",
    "\n",
    "x=np.random.random((10,1))\n",
    "c=np.random.random((10,1))\n",
    "\n",
    "print x\n",
    "print c\n",
    "\n",
    "np.maximum(np.absolute(c),np.absolute(x))\n",
    "\n",
    "net = mlp.Network(3,[784,50,10],mlp.ReLU)\n",
    "net.train(training_data, 20, 10,0.001,test_data)\n",
    "\n",
    "import math\n",
    "math.pow(10,-6)\n",
    "\n",
    "import math\n",
    "for i,value in np.ndenumerate(net.biases[1]):\n",
    "    \"\"\"change b \n",
    "    feedforward(x)\n",
    "    cost1(x,y)\n",
    "    change b \n",
    "    feedforward(x)\n",
    "    cost2(x,y)\n",
    "    corresponding element=(cost2-cost1)/2*change\"\"\"\n",
    "    epsilon = np.zeros(net.biases[1].shape)\n",
    "    epsilon[i]=math.pow(10,-5)\n",
    "    biases1=net.biases+epsilon\n",
    "    biases2=net.biases-epsilon\n",
    "    print biases1,biases2\n",
    "\n",
    "\n",
    "for x,y in training_data[0]:\n",
    "    print(x,y)\n",
    "\n",
    "type(training_data)\n",
    "\n",
    "import cPickle\n",
    "import gzip\n",
    "f = gzip.open('../data/mnist.pkl.gz', 'rb')\n",
    "tr_d, va_d, te_d = cPickle.load(f)\n",
    "\n",
    "import gzip\n",
    "import cPickle\n",
    "\n",
    "f = gzip.open('../data/mnist.pkl.gz', 'rb')\n",
    "training_data, validation_data, test_data = cPickle.load(f)\n",
    "f.close()\n",
    "\n",
    "\n",
    "training_data[0].shape\n",
    "\n",
    "import numpy as np\n",
    "x = np.random.random((3, 2)) - 0.5\n",
    "y = np.random.random((2,3)) - 0.5\n",
    "\n",
    "type(x)\n",
    "\n",
    "print x\n",
    "print y\n",
    "\n",
    "np.(x,y)\n",
    "\n",
    "y=np.random.random((10,1))-1\n",
    "print y\n",
    "np.power(y,2)\n",
    "\n",
    "np.exp(y)/np.sum(np.exp(y))\n",
    "\n",
    "from math import *\n",
    "pow(1.0151317944954,-2)\n",
    "\n",
    "import numpy as np\n",
    "\n",
    "training_data[0][0].shape\n",
    "\n",
    "net.feedforward(training_data[0][0])\n",
    "\n",
    "training_data[0][1]\n",
    "\n",
    "x=[i for i in xrange(0,10)]\n",
    "print x\n",
    "x.pop()\n",
    "\n",
    "x\n",
    "\n"
   ]
  }
 ],
 "metadata": {
  "kernelspec": {
   "display_name": "Python 2",
   "language": "python",
   "name": "python2"
  },
  "language_info": {
   "codemirror_mode": {
    "name": "ipython",
    "version": 2
   },
   "file_extension": ".py",
   "mimetype": "text/x-python",
   "name": "python",
   "nbconvert_exporter": "python",
   "pygments_lexer": "ipython2",
   "version": "2.7.11"
  }
 },
 "nbformat": 4,
 "nbformat_minor": 0
}
