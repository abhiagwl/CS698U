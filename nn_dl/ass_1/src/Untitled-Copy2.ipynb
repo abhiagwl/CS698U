{
 "cells": [
  {
   "cell_type": "code",
   "execution_count": 14,
   "metadata": {
    "collapsed": false,
    "scrolled": true
   },
   "outputs": [],
   "source": [
    "import os\n",
    "import numpy as np\n",
    "import load_data\n",
    "import pandas as pd\n",
    "import math\n",
    "training_data, validation_data, test_data = load_data.load_()\n",
    "import mlp\n",
    "root_dir = os.path.abspath('../..')\n",
    "proj_dir = os.path.join(root_dir, 'ass_1')\n",
    "data_dir= os.path.join(proj_dir, \"data\")\n",
    "source_dir=os.path.join(proj_dir,'src')"
   ]
  },
  {
   "cell_type": "code",
   "execution_count": 13,
   "metadata": {
    "collapsed": false,
    "scrolled": false
   },
   "outputs": [
    {
     "name": "stdout",
     "output_type": "stream",
     "text": [
      "Epoch 0: 1064 / 10000\n",
      "Epoch 1: 915 / 10000\n",
      "Epoch 2: 1009 / 10000\n",
      "Epoch 0: 1064 / 10000\n",
      "Epoch 1: 1009 / 10000\n",
      "Epoch 2: 1064 / 10000\n",
      "Epoch 0: 9078 / 10000\n",
      "Epoch 1: 9138 / 10000\n",
      "Epoch 2: 9197 / 10000\n",
      "Epoch 0: 8846 / 10000\n",
      "Epoch 1: 9006 / 10000\n",
      "Epoch 2: 9009 / 10000\n",
      "Epoch 0: 6761 / 10000\n",
      "Epoch 1: 7716 / 10000\n",
      "Epoch 2: 8327 / 10000\n",
      "Epoch 0: 1487 / 10000\n",
      "Epoch 1: 2843 / 10000\n",
      "Epoch 2: 3754 / 10000\n",
      "Epoch 0: 869 / 10000\n",
      "Epoch 1: 891 / 10000\n",
      "Epoch 2: 914 / 10000\n"
     ]
    }
   ],
   "source": [
    "eta=100\n",
    "storage=[]\n",
    "for i in xrange(7):\n",
    "    eta=eta*math.pow(10,-1)\n",
    "    net = mlp.Network(3,[784,30,10],mlp.ReLU,mlp.momentum)\n",
    "    results = net.train(training_data[:10000], 3, 10, eta=eta,evaluation_data=validation_data)\n",
    "    results=pd.DataFrame(results)\n",
    "    results=results.transpose()\n",
    "    results=results.max()\n",
    "    results=list(results)\n",
    "    results.append(eta)\n",
    "    storage.append(results)\n",
    "storage=pd.DataFrame(storage)\n",
    "storage.to_csv(os.path.join(data_dir,\"eta_0dot0001_10dot0_30.csv\"),header=None,index=None)"
   ]
  },
  {
   "cell_type": "code",
   "execution_count": 12,
   "metadata": {
    "collapsed": false,
    "scrolled": true
   },
   "outputs": [
    {
     "name": "stdout",
     "output_type": "stream",
     "text": [
      "Epoch 0: 3270 / 10000\n",
      "Epoch 1: 3591 / 10000\n",
      "Epoch 0: 5802 / 10000\n",
      "Epoch 1: 6381 / 10000\n",
      "Epoch 0: 7111 / 10000\n",
      "Epoch 1: 7353 / 10000\n",
      "Epoch 0: 7041 / 10000\n",
      "Epoch 1: 6727 / 10000\n",
      "Epoch 0: 7419 / 10000\n",
      "Epoch 1: 7640 / 10000\n",
      "Epoch 0: 3553 / 10000\n",
      "Epoch 1: 4140 / 10000\n",
      "Epoch 0: 6887 / 10000\n",
      "Epoch 1: 7111 / 10000\n",
      "Epoch 0: 7279 / 10000\n",
      "Epoch 1: 7649 / 10000\n",
      "Epoch 0: 7594 / 10000\n",
      "Epoch 1: 8166 / 10000\n",
      "Epoch 0: 7860 / 10000\n",
      "Epoch 1: 8027 / 10000\n",
      "Epoch 0: 4276 / 10000\n",
      "Epoch 1: 4206 / 10000\n",
      "Epoch 0: 6205 / 10000\n",
      "Epoch 1: 6812 / 10000\n",
      "Epoch 0: 6764 / 10000\n",
      "Epoch 1: 7284 / 10000\n",
      "Epoch 0: 7577 / 10000\n",
      "Epoch 1: 7906 / 10000\n",
      "Epoch 0: 7384 / 10000\n",
      "Epoch 1: 7891 / 10000\n"
     ]
    }
   ],
   "source": [
    "eta=0.1\n",
    "storage=[]\n",
    "size1=[10,30,50]\n",
    "size2=[10,30,50,70,100]\n",
    "for i in size1:\n",
    "    for j in size2:\n",
    "        net = mlp.Network(3,[784,j,i,10],mlp.tanh,mlp.momentum)\n",
    "        results = net.train(training_data[:10000],2, 10, eta=eta,evaluation_data=validation_data)\n",
    "        results=pd.DataFrame(results)\n",
    "        results=results.transpose()\n",
    "        results=results.max()\n",
    "        results=list(results)\n",
    "        results.append(j)\n",
    "        results.append(i)\n",
    "        storage.append(results)\n",
    "storage=pd.DataFrame(storage)\n",
    "storage.to_csv(os.path.join(data_dir,\"size_odot1_.csv\"),header=None,index=None)"
   ]
  },
  {
   "cell_type": "code",
   "execution_count": null,
   "metadata": {
    "collapsed": true
   },
   "outputs": [],
   "source": []
  }
 ],
 "metadata": {
  "kernelspec": {
   "display_name": "Python 2",
   "language": "python",
   "name": "python2"
  },
  "language_info": {
   "codemirror_mode": {
    "name": "ipython",
    "version": 2
   },
   "file_extension": ".py",
   "mimetype": "text/x-python",
   "name": "python",
   "nbconvert_exporter": "python",
   "pygments_lexer": "ipython2",
   "version": "2.7.11"
  }
 },
 "nbformat": 4,
 "nbformat_minor": 0
}
