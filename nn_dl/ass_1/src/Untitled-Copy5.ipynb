{
 "cells": [
  {
   "cell_type": "code",
   "execution_count": 1,
   "metadata": {
    "collapsed": false,
    "scrolled": true
   },
   "outputs": [],
   "source": [
    "import os\n",
    "import numpy as np\n",
    "import load_data\n",
    "import pandas as pd\n",
    "training_data, validation_data, test_data = load_data.load_()\n",
    "import mlp\n",
    "root_dir = os.path.abspath('../..')\n",
    "proj_dir = os.path.join(root_dir, 'ass_1')\n",
    "data_dir= os.path.join(proj_dir, \"data\")\n",
    "source_dir=os.path.join(proj_dir,'src')"
   ]
  },
  {
   "cell_type": "code",
   "execution_count": 2,
   "metadata": {
    "collapsed": false,
    "scrolled": true
   },
   "outputs": [
    {
     "name": "stdout",
     "output_type": "stream",
     "text": [
      "Epoch 0: 9273 / 10000\n",
      "Epoch 1: 9352 / 10000\n",
      "Epoch 2: 9397 / 10000\n",
      "Epoch 3: 9409 / 10000\n",
      "Epoch 4: 9437 / 10000\n",
      "Epoch 5: 9449 / 10000\n",
      "Epoch 6: 9466 / 10000\n",
      "Epoch 7: 9476 / 10000\n",
      "Epoch 8: 9475 / 10000\n",
      "Epoch 9: 9477 / 10000\n",
      "Epoch 10: 9491 / 10000\n",
      "Epoch 11: 9500 / 10000\n",
      "Epoch 12: 9509 / 10000\n",
      "Epoch 13: 9512 / 10000\n",
      "Epoch 14: 9515 / 10000\n",
      "Epoch 15: 9515 / 10000\n",
      "Epoch 16: 9529 / 10000\n",
      "Epoch 17: 9529 / 10000\n",
      "Epoch 18: 9539 / 10000\n",
      "Epoch 19: 9542 / 10000\n",
      "Epoch 20: 9542 / 10000\n",
      "Epoch 21: 9538 / 10000\n",
      "Epoch 22: 9546 / 10000\n",
      "Epoch 23: 9544 / 10000\n",
      "Epoch 24: 9554 / 10000\n",
      "Epoch 25: 9548 / 10000\n",
      "Epoch 26: 9556 / 10000\n",
      "Epoch 27: 9552 / 10000\n",
      "Epoch 28: 9565 / 10000\n",
      "Epoch 29: 9561 / 10000\n"
     ]
    }
   ],
   "source": [
    "net = mlp.Network(3,[784,30,10],mlp.tanh,mlp.adgrad)\n",
    "results = net.train(training_data, 30, 10, 0.1,evaluation_data=validation_data)\n",
    "results=pd.DataFrame(results)\n",
    "results.transpose().to_csv(os.path.join(data_dir,\"tanh_adagrad_0dot1_30.csv\"),header=None,index=None)"
   ]
  }
 ],
 "metadata": {
  "kernelspec": {
   "display_name": "Python 2",
   "language": "python",
   "name": "python2"
  },
  "language_info": {
   "codemirror_mode": {
    "name": "ipython",
    "version": 2
   },
   "file_extension": ".py",
   "mimetype": "text/x-python",
   "name": "python",
   "nbconvert_exporter": "python",
   "pygments_lexer": "ipython2",
   "version": "2.7.11"
  }
 },
 "nbformat": 4,
 "nbformat_minor": 0
}
