{
 "cells": [
  {
   "cell_type": "code",
   "execution_count": 1,
   "metadata": {
    "collapsed": false,
    "scrolled": true
   },
   "outputs": [],
   "source": [
    "import os\n",
    "import numpy as np\n",
    "import load_data\n",
    "import pandas as pd\n",
    "training_data, validation_data, test_data = load_data.load_()\n",
    "import mlp\n",
    "root_dir = os.path.abspath('../..')\n",
    "proj_dir = os.path.join(root_dir, 'ass_1')\n",
    "data_dir= os.path.join(proj_dir, \"data\")\n",
    "source_dir=os.path.join(proj_dir,'src')"
   ]
  },
  {
   "cell_type": "code",
   "execution_count": 2,
   "metadata": {
    "collapsed": false
   },
   "outputs": [
    {
     "name": "stdout",
     "output_type": "stream",
     "text": [
      "Epoch 0: 9455 / 10000\n",
      "Epoch 1: 9499 / 10000\n"
     ]
    },
    {
     "data": {
      "text/plain": [
       "'results=pd.DataFrame(results)\\nresults.transpose().to_csv(os.path.join(data_dir,\"tanh_momentum_0dot1_30.csv\"),header=None,index=None)'"
      ]
     },
     "execution_count": 2,
     "metadata": {},
     "output_type": "execute_result"
    }
   ],
   "source": [
    "net = mlp.Network(3,[784,30,10],mlp.tanh,mlp.momentum)\n",
    "results = net.train(training_data[:1000], 2, 10, 0.1,evaluation_data=validation_data)\n",
    "\"\"\"results=pd.DataFrame(results)\n",
    "results.transpose().to_csv(os.path.join(data_dir,\"tanh_momentum_0dot1_30.csv\"),header=None,index=None)\"\"\""
   ]
  },
  {
   "cell_type": "code",
   "execution_count": 3,
   "metadata": {
    "collapsed": false
   },
   "outputs": [],
   "source": [
    "import matplotlib.pyplot as plt"
   ]
  },
  {
   "cell_type": "code",
   "execution_count": 4,
   "metadata": {
    "collapsed": false
   },
   "outputs": [],
   "source": [
    "estimated_values=net.grad_check(training_data)\n",
    "estimate=[values for i, values in np.ndenumerate(estimated_values)]\n",
    "bp_value=[values for i, values in np.ndenumerate(net.biases[0])]\n",
    "    \n",
    "plt.plot([i for i in xrange(len(estimate))],estimate,[i for i in xrange(len(estimate))],bp_value)\n",
    "plt.ylabel('numerical_gradient')\n",
    "plt.show()"
   ]
  },
  {
   "cell_type": "code",
   "execution_count": null,
   "metadata": {
    "collapsed": true
   },
   "outputs": [],
   "source": []
  }
 ],
 "metadata": {
  "kernelspec": {
   "display_name": "Python 2",
   "language": "python",
   "name": "python2"
  },
  "language_info": {
   "codemirror_mode": {
    "name": "ipython",
    "version": 2
   },
   "file_extension": ".py",
   "mimetype": "text/x-python",
   "name": "python",
   "nbconvert_exporter": "python",
   "pygments_lexer": "ipython2",
   "version": "2.7.11"
  }
 },
 "nbformat": 4,
 "nbformat_minor": 0
}
